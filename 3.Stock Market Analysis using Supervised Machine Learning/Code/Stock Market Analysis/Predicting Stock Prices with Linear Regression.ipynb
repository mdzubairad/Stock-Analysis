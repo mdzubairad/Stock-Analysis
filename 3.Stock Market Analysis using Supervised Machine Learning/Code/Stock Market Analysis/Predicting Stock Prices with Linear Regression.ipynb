{
 "cells": [
  {
   "cell_type": "markdown",
   "metadata": {},
   "source": [
    "# Stock Market Analysis using Supervised Machine Learning\n",
    "\n",
    "Stock market or Share market is one of the most complicated and sophisticated way to do business. Small ownerships, brokerage corporations, banking sector, all depend on this very body to make revenue and divide risks; a very complicated model. However, this paper proposes to use machine learning algorithm to predict the future stock price for exchange by using open source libraries and preexisting algorithms to help make this unpredictable format of business a little more predictable. We shall see how this simple implementation will bring acceptable results. The outcome is completely based on numbers and assumes a lot of axioms that may or may not follow in the real world so as the time of prediction."
   ]
  },
  {
   "cell_type": "markdown",
   "metadata": {},
   "source": [
    "## Check out the Data\n",
    "\n",
    "### Import Libraries"
   ]
  },
  {
   "cell_type": "code",
   "execution_count": 1,
   "metadata": {},
   "outputs": [],
   "source": [
    "import numpy as np\n",
    "import pandas as pd\n",
    "#import quandl\n",
    "import datetime\n",
    "\n",
    "%matplotlib inline\n",
    "import matplotlib.pyplot as plt\n",
    "import seaborn as sns\n",
    "plt.style.use('seaborn-darkgrid')\n",
    "plt.rc('figure', figsize=(16,10))\n",
    "plt.rc('lines', markersize=4)"
   ]
  },
  {
   "cell_type": "markdown",
   "metadata": {},
   "source": [
    "### Quandl Data\n",
    "In this stage, we shall look at the raw data available to us and study it in-order to identify suitable attributes for the prediction of our selected label. Now the data that we’re going to use for our program is taken from www.quandl.com, a premier dataset providing platform."
   ]
  },
  {
   "cell_type": "markdown",
   "metadata": {},
   "source": [
    "### Get the Data \n",
    "\n",
    "Data Loading\n",
    "The attributes of the dataset include:\n",
    "Open (Opening price of Stock)\n",
    "High (Highest price possible at an instance of time)\n",
    "Low (Lowest price possible at an instance of time)\n",
    "Close (Closing price of stock)\n",
    "Volume (Total times traded during a day)\n",
    "Split ratio\n",
    "Adj. Open\n",
    "Adj. High\n",
    "\n",
    "Adj. Close\n",
    "\n",
    "We select the attribute “Close” to be our label (The\n",
    "variable which we shall be predicting) and use “Adj. Open,\n",
    "Adj. High, Adj. Close, Adj. Low and Adj. Volume” to\n",
    "extract the features that will help us predict the outcome\n",
    "better"
   ]
  },
  {
   "cell_type": "code",
   "execution_count": 2,
   "metadata": {},
   "outputs": [
    {
     "name": "stdout",
     "output_type": "stream",
     "text": [
      "The GTD dataset has 2550 samples with 11 features.\n"
     ]
    }
   ],
   "source": [
    "# Set start and end date for stock prices\n",
    "start_date = datetime.date(2009, 3,8)\n",
    "end_date = datetime.date.today()\n",
    "# Load data from Quandl\n",
    "#data = quandl.get('FSE/SAP_X', start_date=start_date, end_date=end_date)\n",
    "# Save data to CSV file\n",
    "data = pd.read_csv(\"data/sap_stock.csv\", low_memory = False, skiprows = 1, encoding = \"ISO-8859-1\")\n",
    "#data.to_csv('data/sap_stock.csv')\n",
    "print(\"The GTD dataset has {} samples with {} features.\".format(*data.shape))"
   ]
  },
  {
   "cell_type": "code",
   "execution_count": 3,
   "metadata": {},
   "outputs": [
    {
     "data": {
      "text/html": [
       "<div>\n",
       "<style scoped>\n",
       "    .dataframe tbody tr th:only-of-type {\n",
       "        vertical-align: middle;\n",
       "    }\n",
       "\n",
       "    .dataframe tbody tr th {\n",
       "        vertical-align: top;\n",
       "    }\n",
       "\n",
       "    .dataframe thead th {\n",
       "        text-align: right;\n",
       "    }\n",
       "</style>\n",
       "<table border=\"1\" class=\"dataframe\">\n",
       "  <thead>\n",
       "    <tr style=\"text-align: right;\">\n",
       "      <th></th>\n",
       "      <th>Date</th>\n",
       "      <th>Open</th>\n",
       "      <th>High</th>\n",
       "      <th>Low</th>\n",
       "      <th>Close</th>\n",
       "      <th>Change</th>\n",
       "      <th>Traded Volume</th>\n",
       "      <th>Turnover</th>\n",
       "      <th>Last Price of the Day</th>\n",
       "      <th>Daily Traded Units</th>\n",
       "      <th>Daily Turnover</th>\n",
       "    </tr>\n",
       "  </thead>\n",
       "  <tbody>\n",
       "    <tr>\n",
       "      <th>0</th>\n",
       "      <td>2009-03-09</td>\n",
       "      <td>25.16</td>\n",
       "      <td>25.82</td>\n",
       "      <td>24.48</td>\n",
       "      <td>25.59</td>\n",
       "      <td>NaN</td>\n",
       "      <td>5749357.0</td>\n",
       "      <td>145200289.0</td>\n",
       "      <td>NaN</td>\n",
       "      <td>NaN</td>\n",
       "      <td>NaN</td>\n",
       "    </tr>\n",
       "    <tr>\n",
       "      <th>1</th>\n",
       "      <td>2009-03-10</td>\n",
       "      <td>25.68</td>\n",
       "      <td>26.95</td>\n",
       "      <td>25.68</td>\n",
       "      <td>26.87</td>\n",
       "      <td>NaN</td>\n",
       "      <td>7507770.0</td>\n",
       "      <td>198480965.0</td>\n",
       "      <td>NaN</td>\n",
       "      <td>NaN</td>\n",
       "      <td>NaN</td>\n",
       "    </tr>\n",
       "    <tr>\n",
       "      <th>2</th>\n",
       "      <td>2009-03-11</td>\n",
       "      <td>26.50</td>\n",
       "      <td>26.95</td>\n",
       "      <td>26.26</td>\n",
       "      <td>26.64</td>\n",
       "      <td>NaN</td>\n",
       "      <td>5855095.0</td>\n",
       "      <td>155815439.0</td>\n",
       "      <td>NaN</td>\n",
       "      <td>NaN</td>\n",
       "      <td>NaN</td>\n",
       "    </tr>\n",
       "    <tr>\n",
       "      <th>3</th>\n",
       "      <td>2009-03-12</td>\n",
       "      <td>26.15</td>\n",
       "      <td>26.47</td>\n",
       "      <td>25.82</td>\n",
       "      <td>26.18</td>\n",
       "      <td>NaN</td>\n",
       "      <td>6294955.0</td>\n",
       "      <td>164489409.0</td>\n",
       "      <td>NaN</td>\n",
       "      <td>NaN</td>\n",
       "      <td>NaN</td>\n",
       "    </tr>\n",
       "    <tr>\n",
       "      <th>4</th>\n",
       "      <td>2009-03-13</td>\n",
       "      <td>26.01</td>\n",
       "      <td>26.24</td>\n",
       "      <td>25.65</td>\n",
       "      <td>25.73</td>\n",
       "      <td>NaN</td>\n",
       "      <td>6814568.0</td>\n",
       "      <td>176228331.0</td>\n",
       "      <td>NaN</td>\n",
       "      <td>NaN</td>\n",
       "      <td>NaN</td>\n",
       "    </tr>\n",
       "  </tbody>\n",
       "</table>\n",
       "</div>"
      ],
      "text/plain": [
       "         Date   Open   High    Low  Close  Change  Traded Volume     Turnover  \\\n",
       "0  2009-03-09  25.16  25.82  24.48  25.59     NaN      5749357.0  145200289.0   \n",
       "1  2009-03-10  25.68  26.95  25.68  26.87     NaN      7507770.0  198480965.0   \n",
       "2  2009-03-11  26.50  26.95  26.26  26.64     NaN      5855095.0  155815439.0   \n",
       "3  2009-03-12  26.15  26.47  25.82  26.18     NaN      6294955.0  164489409.0   \n",
       "4  2009-03-13  26.01  26.24  25.65  25.73     NaN      6814568.0  176228331.0   \n",
       "\n",
       "   Last Price of the Day  Daily Traded Units  Daily Turnover  \n",
       "0                    NaN                 NaN             NaN  \n",
       "1                    NaN                 NaN             NaN  \n",
       "2                    NaN                 NaN             NaN  \n",
       "3                    NaN                 NaN             NaN  \n",
       "4                    NaN                 NaN             NaN  "
      ]
     },
     "execution_count": 3,
     "metadata": {},
     "output_type": "execute_result"
    }
   ],
   "source": [
    "data.head()"
   ]
  },
  {
   "cell_type": "code",
   "execution_count": 4,
   "metadata": {},
   "outputs": [
    {
     "name": "stdout",
     "output_type": "stream",
     "text": [
      "<class 'pandas.core.frame.DataFrame'>\n",
      "RangeIndex: 2550 entries, 0 to 2549\n",
      "Data columns (total 11 columns):\n",
      "Date                     2550 non-null object\n",
      "Open                     2242 non-null float64\n",
      "High                     2543 non-null float64\n",
      "Low                      2543 non-null float64\n",
      "Close                    2550 non-null float64\n",
      "Change                   11 non-null float64\n",
      "Traded Volume            2504 non-null float64\n",
      "Turnover                 2497 non-null float64\n",
      "Last Price of the Day    0 non-null float64\n",
      "Daily Traded Units       0 non-null float64\n",
      "Daily Turnover           7 non-null float64\n",
      "dtypes: float64(10), object(1)\n",
      "memory usage: 219.2+ KB\n"
     ]
    }
   ],
   "source": [
    "# Check data types in columns\n",
    "data.info()"
   ]
  },
  {
   "cell_type": "code",
   "execution_count": 5,
   "metadata": {},
   "outputs": [
    {
     "data": {
      "text/html": [
       "<div>\n",
       "<style scoped>\n",
       "    .dataframe tbody tr th:only-of-type {\n",
       "        vertical-align: middle;\n",
       "    }\n",
       "\n",
       "    .dataframe tbody tr th {\n",
       "        vertical-align: top;\n",
       "    }\n",
       "\n",
       "    .dataframe thead th {\n",
       "        text-align: right;\n",
       "    }\n",
       "</style>\n",
       "<table border=\"1\" class=\"dataframe\">\n",
       "  <thead>\n",
       "    <tr style=\"text-align: right;\">\n",
       "      <th></th>\n",
       "      <th>Open</th>\n",
       "      <th>High</th>\n",
       "      <th>Low</th>\n",
       "      <th>Close</th>\n",
       "      <th>Change</th>\n",
       "      <th>Traded Volume</th>\n",
       "      <th>Turnover</th>\n",
       "      <th>Last Price of the Day</th>\n",
       "      <th>Daily Traded Units</th>\n",
       "      <th>Daily Turnover</th>\n",
       "    </tr>\n",
       "  </thead>\n",
       "  <tbody>\n",
       "    <tr>\n",
       "      <th>count</th>\n",
       "      <td>2242.000000</td>\n",
       "      <td>2543.000000</td>\n",
       "      <td>2543.000000</td>\n",
       "      <td>2550.000000</td>\n",
       "      <td>11.000000</td>\n",
       "      <td>2.504000e+03</td>\n",
       "      <td>2.497000e+03</td>\n",
       "      <td>0.0</td>\n",
       "      <td>0.0</td>\n",
       "      <td>7.0</td>\n",
       "    </tr>\n",
       "    <tr>\n",
       "      <th>mean</th>\n",
       "      <td>56.686896</td>\n",
       "      <td>61.563225</td>\n",
       "      <td>60.535073</td>\n",
       "      <td>60.995955</td>\n",
       "      <td>-0.070000</td>\n",
       "      <td>3.296818e+06</td>\n",
       "      <td>1.828440e+08</td>\n",
       "      <td>NaN</td>\n",
       "      <td>NaN</td>\n",
       "      <td>0.0</td>\n",
       "    </tr>\n",
       "    <tr>\n",
       "      <th>std</th>\n",
       "      <td>18.320821</td>\n",
       "      <td>21.184135</td>\n",
       "      <td>20.934460</td>\n",
       "      <td>21.097480</td>\n",
       "      <td>0.709761</td>\n",
       "      <td>2.004323e+06</td>\n",
       "      <td>9.350710e+07</td>\n",
       "      <td>NaN</td>\n",
       "      <td>NaN</td>\n",
       "      <td>0.0</td>\n",
       "    </tr>\n",
       "    <tr>\n",
       "      <th>min</th>\n",
       "      <td>25.160000</td>\n",
       "      <td>25.820000</td>\n",
       "      <td>24.480000</td>\n",
       "      <td>25.590000</td>\n",
       "      <td>-0.740000</td>\n",
       "      <td>0.000000e+00</td>\n",
       "      <td>1.767350e+05</td>\n",
       "      <td>NaN</td>\n",
       "      <td>NaN</td>\n",
       "      <td>0.0</td>\n",
       "    </tr>\n",
       "    <tr>\n",
       "      <th>25%</th>\n",
       "      <td>41.500000</td>\n",
       "      <td>43.430000</td>\n",
       "      <td>42.590000</td>\n",
       "      <td>42.950000</td>\n",
       "      <td>-0.500000</td>\n",
       "      <td>2.131686e+06</td>\n",
       "      <td>1.300462e+08</td>\n",
       "      <td>NaN</td>\n",
       "      <td>NaN</td>\n",
       "      <td>0.0</td>\n",
       "    </tr>\n",
       "    <tr>\n",
       "      <th>50%</th>\n",
       "      <td>56.560000</td>\n",
       "      <td>58.480000</td>\n",
       "      <td>57.580000</td>\n",
       "      <td>58.015000</td>\n",
       "      <td>-0.290000</td>\n",
       "      <td>2.852772e+06</td>\n",
       "      <td>1.626544e+08</td>\n",
       "      <td>NaN</td>\n",
       "      <td>NaN</td>\n",
       "      <td>0.0</td>\n",
       "    </tr>\n",
       "    <tr>\n",
       "      <th>75%</th>\n",
       "      <td>67.732500</td>\n",
       "      <td>78.365000</td>\n",
       "      <td>77.085000</td>\n",
       "      <td>77.762500</td>\n",
       "      <td>0.085000</td>\n",
       "      <td>3.878528e+06</td>\n",
       "      <td>2.104511e+08</td>\n",
       "      <td>NaN</td>\n",
       "      <td>NaN</td>\n",
       "      <td>0.0</td>\n",
       "    </tr>\n",
       "    <tr>\n",
       "      <th>max</th>\n",
       "      <td>100.100000</td>\n",
       "      <td>108.520000</td>\n",
       "      <td>107.020000</td>\n",
       "      <td>107.800000</td>\n",
       "      <td>1.250000</td>\n",
       "      <td>3.645671e+07</td>\n",
       "      <td>1.369431e+09</td>\n",
       "      <td>NaN</td>\n",
       "      <td>NaN</td>\n",
       "      <td>0.0</td>\n",
       "    </tr>\n",
       "  </tbody>\n",
       "</table>\n",
       "</div>"
      ],
      "text/plain": [
       "              Open         High          Low        Close     Change  \\\n",
       "count  2242.000000  2543.000000  2543.000000  2550.000000  11.000000   \n",
       "mean     56.686896    61.563225    60.535073    60.995955  -0.070000   \n",
       "std      18.320821    21.184135    20.934460    21.097480   0.709761   \n",
       "min      25.160000    25.820000    24.480000    25.590000  -0.740000   \n",
       "25%      41.500000    43.430000    42.590000    42.950000  -0.500000   \n",
       "50%      56.560000    58.480000    57.580000    58.015000  -0.290000   \n",
       "75%      67.732500    78.365000    77.085000    77.762500   0.085000   \n",
       "max     100.100000   108.520000   107.020000   107.800000   1.250000   \n",
       "\n",
       "       Traded Volume      Turnover  Last Price of the Day  Daily Traded Units  \\\n",
       "count   2.504000e+03  2.497000e+03                    0.0                 0.0   \n",
       "mean    3.296818e+06  1.828440e+08                    NaN                 NaN   \n",
       "std     2.004323e+06  9.350710e+07                    NaN                 NaN   \n",
       "min     0.000000e+00  1.767350e+05                    NaN                 NaN   \n",
       "25%     2.131686e+06  1.300462e+08                    NaN                 NaN   \n",
       "50%     2.852772e+06  1.626544e+08                    NaN                 NaN   \n",
       "75%     3.878528e+06  2.104511e+08                    NaN                 NaN   \n",
       "max     3.645671e+07  1.369431e+09                    NaN                 NaN   \n",
       "\n",
       "       Daily Turnover  \n",
       "count             7.0  \n",
       "mean              0.0  \n",
       "std               0.0  \n",
       "min               0.0  \n",
       "25%               0.0  \n",
       "50%               0.0  \n",
       "75%               0.0  \n",
       "max               0.0  "
      ]
     },
     "execution_count": 5,
     "metadata": {},
     "output_type": "execute_result"
    }
   ],
   "source": [
    "# Get descriptive statistics summary of data set \n",
    "data.describe()"
   ]
  },
  {
   "cell_type": "code",
   "execution_count": 6,
   "metadata": {},
   "outputs": [
    {
     "data": {
      "text/plain": [
       "Index(['Date', 'Open', 'High', 'Low', 'Close', 'Change', 'Traded Volume',\n",
       "       'Turnover', 'Last Price of the Day', 'Daily Traded Units',\n",
       "       'Daily Turnover'],\n",
       "      dtype='object')"
      ]
     },
     "execution_count": 6,
     "metadata": {},
     "output_type": "execute_result"
    }
   ],
   "source": [
    "# Display features in data set\n",
    "data.columns\n",
    "#data.drop(['Date'], axis = 1) "
   ]
  },
  {
   "cell_type": "markdown",
   "metadata": {},
   "source": [
    "### Select Subset with relevant features\n",
    "\n",
    "We use the daily closing price **Close** as the value to predict, so we can discard the other features.  \n",
    "\n",
    "* 'Close' column has numerical data type\n",
    "* The 'Date' is the index column and contains datetime values"
   ]
  },
  {
   "cell_type": "code",
   "execution_count": 7,
   "metadata": {},
   "outputs": [],
   "source": [
    "# Create a new DataFrame with only closing price and date\n",
    "df = pd.DataFrame(data, columns=['Date','Close'])\n",
    "\n",
    "# Reset index column so that we have integers to represent time for later analysis\n",
    "df = df.reset_index()"
   ]
  },
  {
   "cell_type": "code",
   "execution_count": 8,
   "metadata": {},
   "outputs": [
    {
     "data": {
      "text/html": [
       "<div>\n",
       "<style scoped>\n",
       "    .dataframe tbody tr th:only-of-type {\n",
       "        vertical-align: middle;\n",
       "    }\n",
       "\n",
       "    .dataframe tbody tr th {\n",
       "        vertical-align: top;\n",
       "    }\n",
       "\n",
       "    .dataframe thead th {\n",
       "        text-align: right;\n",
       "    }\n",
       "</style>\n",
       "<table border=\"1\" class=\"dataframe\">\n",
       "  <thead>\n",
       "    <tr style=\"text-align: right;\">\n",
       "      <th></th>\n",
       "      <th>index</th>\n",
       "      <th>Date</th>\n",
       "      <th>Close</th>\n",
       "    </tr>\n",
       "  </thead>\n",
       "  <tbody>\n",
       "    <tr>\n",
       "      <th>0</th>\n",
       "      <td>0</td>\n",
       "      <td>2009-03-09</td>\n",
       "      <td>25.59</td>\n",
       "    </tr>\n",
       "    <tr>\n",
       "      <th>1</th>\n",
       "      <td>1</td>\n",
       "      <td>2009-03-10</td>\n",
       "      <td>26.87</td>\n",
       "    </tr>\n",
       "    <tr>\n",
       "      <th>2</th>\n",
       "      <td>2</td>\n",
       "      <td>2009-03-11</td>\n",
       "      <td>26.64</td>\n",
       "    </tr>\n",
       "    <tr>\n",
       "      <th>3</th>\n",
       "      <td>3</td>\n",
       "      <td>2009-03-12</td>\n",
       "      <td>26.18</td>\n",
       "    </tr>\n",
       "    <tr>\n",
       "      <th>4</th>\n",
       "      <td>4</td>\n",
       "      <td>2009-03-13</td>\n",
       "      <td>25.73</td>\n",
       "    </tr>\n",
       "  </tbody>\n",
       "</table>\n",
       "</div>"
      ],
      "text/plain": [
       "   index        Date  Close\n",
       "0      0  2009-03-09  25.59\n",
       "1      1  2009-03-10  26.87\n",
       "2      2  2009-03-11  26.64\n",
       "3      3  2009-03-12  26.18\n",
       "4      4  2009-03-13  25.73"
      ]
     },
     "execution_count": 8,
     "metadata": {},
     "output_type": "execute_result"
    }
   ],
   "source": [
    "df.head()"
   ]
  },
  {
   "cell_type": "code",
   "execution_count": 9,
   "metadata": {},
   "outputs": [
    {
     "name": "stdout",
     "output_type": "stream",
     "text": [
      "<class 'pandas.core.frame.DataFrame'>\n",
      "RangeIndex: 2550 entries, 0 to 2549\n",
      "Data columns (total 3 columns):\n",
      "index    2550 non-null int64\n",
      "Date     2550 non-null object\n",
      "Close    2550 non-null float64\n",
      "dtypes: float64(1), int64(1), object(1)\n",
      "memory usage: 59.8+ KB\n"
     ]
    }
   ],
   "source": [
    "# Check data types in columns\n",
    "df.info()"
   ]
  },
  {
   "cell_type": "code",
   "execution_count": 10,
   "metadata": {},
   "outputs": [
    {
     "data": {
      "text/plain": [
       "False"
      ]
     },
     "execution_count": 10,
     "metadata": {},
     "output_type": "execute_result"
    }
   ],
   "source": [
    "# Check for missing values in the columns\n",
    "df.isna().values.any()\n"
   ]
  },
  {
   "cell_type": "markdown",
   "metadata": {},
   "source": [
    "## Explore the Data\n",
    "\n",
    "When we take a look at the price movement over time by simply plotting the *Closing price* vs *Time*, we can already see, that the price continously increases over time and we can also estimate that trend could be linear."
   ]
  },
  {
   "cell_type": "code",
   "execution_count": 11,
   "metadata": {},
   "outputs": [
    {
     "data": {
      "image/png": "[encoded data removed]",
      "text/plain": [
       "<Figure size 432x288 with 1 Axes>"
      ]
     },
     "metadata": {},
     "output_type": "display_data"
    }
   ],
   "source": [
    "# Import matplotlib package for date plots\n",
    "import matplotlib.dates as mdates\n",
    "\n",
    "years = mdates.YearLocator() # Get every year\n",
    "yearsFmt = mdates.DateFormatter('%Y') # Set year format\n",
    "\n",
    "# Create subplots to plot graph and control axes\n",
    "fig, ax = plt.subplots()\n",
    "ax.plot(df['Date'], df['Close'])\n",
    "\n",
    "# Format the ticks\n",
    "ax.xaxis.set_major_locator(years)\n",
    "ax.xaxis.set_major_formatter(yearsFmt)\n",
    "\n",
    "# Set figure title\n",
    "plt.title('Close Stock Price History [2009 - 2019]', fontsize=16)\n",
    "# Set x label\n",
    "plt.xlabel('Date', fontsize=14)\n",
    "# Set y label\n",
    "plt.ylabel('Closing Stock Price in $', fontsize=14)\n",
    "\n",
    "# Rotate and align the x labels\n",
    "fig.autofmt_xdate()\n",
    "\n",
    "# Show plot\n",
    "plt.show()"
   ]
  },
  {
   "cell_type": "markdown",
   "metadata": {},
   "source": [
    "## Linear Regression\n",
    " \n",
    "Our data contains only one **independent variable ($X$)** which represents the *date* and the **dependent variable ($Y$)** we are trying to predict is the *Stock Price*. To fit a line to the data points, which then represents an estimated relationship between $X$ and $Y$, we can use a **Simple Linear Regression**.\n",
    "\n",
    "The best fit line can be described with  \n",
    "$$\n",
    "Y = \\beta_0 + \\beta_1 X\n",
    "$$\n",
    "\n",
    "where  \n",
    "* $Y$ is the predicted value of the dependent variable\n",
    "* $\\beta_0$ is the y-intercept\n",
    "* $\\beta_1$ is the slope\n",
    "* $X$ is the value of the independent variable\n",
    "\n",
    "The goal is to find such coefficients $\\beta_0$ and $\\beta_1$ that the **Sum of Squared Errors**, which represents the difference between each point in the dataset with it’s corresponding predicted value outputted by the model, is minimal."
   ]
  },
  {
   "cell_type": "markdown",
   "metadata": {},
   "source": [
    "### Training a Linear Regression Model"
   ]
  },
  {
   "cell_type": "markdown",
   "metadata": {},
   "source": [
    "### Train Test Split\n",
    "\n",
    "Training of a model is very straightforward. You only need to make sure that the data is consistent, coherent and is available in great abundance. A large set of training data contributes to a stronger and more accurate classifier which ultimately increases the overall accuracy. Testing is also a very straightforward process. Make sure your test data is at least 20% of the size of your training data. It is important to understand that testing is the test of you classifiers accuracy and is sometimes observed to be inversely proportional to a classifiers score. However, the accuracy of the classifier has no dependency or correlation with testing. It sometimes seem so, but testing does not have any relationship with the classifier."
   ]
  },
  {
   "cell_type": "code",
   "execution_count": 12,
   "metadata": {},
   "outputs": [],
   "source": [
    "# Import package for splitting data set\n",
    "from sklearn.model_selection import train_test_split"
   ]
  },
  {
   "cell_type": "code",
   "execution_count": 13,
   "metadata": {},
   "outputs": [],
   "source": [
    "# Split data into train and test set: 80% / 20%\n",
    "train, test = train_test_split(df, test_size=0.20)"
   ]
  },
  {
   "cell_type": "markdown",
   "metadata": {},
   "source": [
    "### Create and Train the Model"
   ]
  },
  {
   "cell_type": "code",
   "execution_count": 14,
   "metadata": {},
   "outputs": [],
   "source": [
    "# Import package for linear model\n",
    "from sklearn.linear_model import LinearRegression"
   ]
  },
  {
   "cell_type": "code",
   "execution_count": 15,
   "metadata": {},
   "outputs": [],
   "source": [
    "# Reshape index column to 2D array for .fit() method\n",
    "X_train = np.array(train.index).reshape(-1, 1)\n",
    "y_train = train['Close']"
   ]
  },
  {
   "cell_type": "code",
   "execution_count": 16,
   "metadata": {},
   "outputs": [
    {
     "data": {
      "text/plain": [
       "LinearRegression(copy_X=True, fit_intercept=True, n_jobs=1, normalize=False)"
      ]
     },
     "execution_count": 16,
     "metadata": {},
     "output_type": "execute_result"
    }
   ],
   "source": [
    "# Create LinearRegression Object\n",
    "model = LinearRegression()\n",
    "# Fit linear model using the train data set\n",
    "model.fit(X_train, y_train)"
   ]
  },
  {
   "cell_type": "markdown",
   "metadata": {},
   "source": [
    "### Model Evaluation"
   ]
  },
  {
   "cell_type": "code",
   "execution_count": 17,
   "metadata": {},
   "outputs": [
    {
     "name": "stdout",
     "output_type": "stream",
     "text": [
      "Slope:  0.027723491410145913\n",
      "Intercept:  25.65784386601402\n"
     ]
    }
   ],
   "source": [
    "# The coefficient\n",
    "print('Slope: ', np.asscalar(np.squeeze(model.coef_)))\n",
    "# The Intercept\n",
    "print('Intercept: ', model.intercept_)"
   ]
  },
  {
   "cell_type": "markdown",
   "metadata": {},
   "source": [
    "Interpreting the coefficients:\n",
    "\n",
    "* The **slope** coefficient tells us that with a 1 unit increase in **date** the **closing price** increases by 0.0276 $\n",
    "* The **intercept** coefficient is the price at wich the **closing price** measurement started, the stock price value at date zero"
   ]
  },
  {
   "cell_type": "code",
   "execution_count": 18,
   "metadata": {},
   "outputs": [
    {
     "data": {
      "image/png": "[encoded data removed]",
      "text/plain": [
       "<Figure size 1152x720 with 1 Axes>"
      ]
     },
     "metadata": {},
     "output_type": "display_data"
    }
   ],
   "source": [
    "# Train set graph\n",
    "plt.figure(1, figsize=(16,10))\n",
    "plt.title('Linear Regression | Price vs Time')\n",
    "plt.scatter(X_train, y_train, edgecolor='w', label='Actual Price')\n",
    "plt.plot(X_train, model.predict(X_train), color='r', label='Predicted Price')\n",
    "plt.xlabel('Integer Date')\n",
    "plt.ylabel('Stock Price')\n",
    "plt.legend()\n",
    "plt.show()"
   ]
  },
  {
   "cell_type": "markdown",
   "metadata": {},
   "source": [
    "### Prediction from our Model"
   ]
  },
  {
   "cell_type": "code",
   "execution_count": 19,
   "metadata": {},
   "outputs": [],
   "source": [
    "# Create test arrays\n",
    "X_test = np.array(test.index).reshape(-1, 1)\n",
    "y_test = test['Close']"
   ]
  },
  {
   "cell_type": "code",
   "execution_count": 20,
   "metadata": {},
   "outputs": [
    {
     "name": "stdout",
     "output_type": "stream",
     "text": [
      "[29.92726154 72.20558594 80.49490988 63.61130361 85.70692626 28.04206413\n",
      " 77.94434867 82.57417173 33.86399732 45.53558721 30.065879   62.58553442\n",
      " 49.25053506 76.33638616 83.73855837 93.30316291 47.11582622 83.71083488\n",
      " 30.84213676 64.80341374 56.2091314  49.88817536 82.32466031 60.31220813\n",
      " 60.89440145]\n"
     ]
    }
   ],
   "source": [
    "# Generate array with predicted values\n",
    "y_pred = model.predict(X_test)\n",
    "print(y_pred[0:25])\n",
    "#df['Prediction'] = y_pred[:24]"
   ]
  },
  {
   "cell_type": "markdown",
   "metadata": {},
   "source": [
    "## Regression Evaluation"
   ]
  },
  {
   "cell_type": "markdown",
   "metadata": {},
   "source": [
    "Let's have a look at how the predicted values compare with the actual value on random sample from our data set."
   ]
  },
  {
   "cell_type": "code",
   "execution_count": 21,
   "metadata": {},
   "outputs": [
    {
     "data": {
      "text/plain": [
       "(2550, 3)"
      ]
     },
     "execution_count": 21,
     "metadata": {},
     "output_type": "execute_result"
    }
   ],
   "source": [
    "# Get number of rows in data set for random sample\n",
    "#df['Prediction']=y_pred\n",
    "df.shape"
   ]
  },
  {
   "cell_type": "code",
   "execution_count": 22,
   "metadata": {},
   "outputs": [
    {
     "name": "stdout",
     "output_type": "stream",
     "text": [
      "<class 'numpy.ndarray'>\n"
     ]
    },
    {
     "name": "stderr",
     "output_type": "stream",
     "text": [
      "D:\\Anaconda3\\lib\\site-packages\\ipykernel_launcher.py:7: SettingWithCopyWarning: \n",
      "A value is trying to be set on a copy of a slice from a DataFrame.\n",
      "Try using .loc[row_indexer,col_indexer] = value instead\n",
      "\n",
      "See the caveats in the documentation: http://pandas.pydata.org/pandas-docs/stable/indexing.html#indexing-view-versus-copy\n",
      "  import sys\n"
     ]
    }
   ],
   "source": [
    "print(type(y_pred))\n",
    "# Generate 25 random numbers\n",
    "randints = np.random.randint(2550, size=25)\n",
    "\n",
    "# Select row numbers == random numbers\n",
    "df_sample = df[df.index.isin(randints)]\n",
    "df_sample['Prediction']=y_pred[0:25]"
   ]
  },
  {
   "cell_type": "code",
   "execution_count": 23,
   "metadata": {},
   "outputs": [
    {
     "data": {
      "text/html": [
       "<div>\n",
       "<style scoped>\n",
       "    .dataframe tbody tr th:only-of-type {\n",
       "        vertical-align: middle;\n",
       "    }\n",
       "\n",
       "    .dataframe tbody tr th {\n",
       "        vertical-align: top;\n",
       "    }\n",
       "\n",
       "    .dataframe thead th {\n",
       "        text-align: right;\n",
       "    }\n",
       "</style>\n",
       "<table border=\"1\" class=\"dataframe\">\n",
       "  <thead>\n",
       "    <tr style=\"text-align: right;\">\n",
       "      <th></th>\n",
       "      <th>index</th>\n",
       "      <th>Date</th>\n",
       "      <th>Close</th>\n",
       "      <th>Prediction</th>\n",
       "    </tr>\n",
       "  </thead>\n",
       "  <tbody>\n",
       "    <tr>\n",
       "      <th>5</th>\n",
       "      <td>5</td>\n",
       "      <td>2009-03-16</td>\n",
       "      <td>26.480</td>\n",
       "      <td>29.927262</td>\n",
       "    </tr>\n",
       "    <tr>\n",
       "      <th>25</th>\n",
       "      <td>25</td>\n",
       "      <td>2009-04-13</td>\n",
       "      <td>29.005</td>\n",
       "      <td>72.205586</td>\n",
       "    </tr>\n",
       "    <tr>\n",
       "      <th>93</th>\n",
       "      <td>93</td>\n",
       "      <td>2009-07-16</td>\n",
       "      <td>29.890</td>\n",
       "      <td>80.494910</td>\n",
       "    </tr>\n",
       "    <tr>\n",
       "      <th>175</th>\n",
       "      <td>175</td>\n",
       "      <td>2009-11-09</td>\n",
       "      <td>31.500</td>\n",
       "      <td>63.611304</td>\n",
       "    </tr>\n",
       "    <tr>\n",
       "      <th>331</th>\n",
       "      <td>331</td>\n",
       "      <td>2010-06-17</td>\n",
       "      <td>37.440</td>\n",
       "      <td>85.706926</td>\n",
       "    </tr>\n",
       "  </tbody>\n",
       "</table>\n",
       "</div>"
      ],
      "text/plain": [
       "     index        Date   Close  Prediction\n",
       "5        5  2009-03-16  26.480   29.927262\n",
       "25      25  2009-04-13  29.005   72.205586\n",
       "93      93  2009-07-16  29.890   80.494910\n",
       "175    175  2009-11-09  31.500   63.611304\n",
       "331    331  2010-06-17  37.440   85.706926"
      ]
     },
     "execution_count": 23,
     "metadata": {},
     "output_type": "execute_result"
    }
   ],
   "source": [
    "#df['Prediction']=y_pred\n",
    "df_sample.head()"
   ]
  },
  {
   "cell_type": "code",
   "execution_count": 24,
   "metadata": {},
   "outputs": [
    {
     "data": {
      "image/png": "[encoded data removed]",
      "text/plain": [
       "<Figure size 432x288 with 1 Axes>"
      ]
     },
     "metadata": {},
     "output_type": "display_data"
    }
   ],
   "source": [
    "# Create subplots to plot graph and control axes\n",
    "fig, ax = plt.subplots()\n",
    "df_sample.plot(x='Date', y=['Close', 'Prediction'], kind='bar', ax=ax)\n",
    "\n",
    "# Set figure title\n",
    "plt.title('Comparison Predicted vs Actual Price in Sample data selection', fontsize=16)\n",
    "\n",
    "# \n",
    "\n",
    "# Set x label\n",
    "plt.xlabel('Date', fontsize=14)\n",
    "\n",
    "# Set y label\n",
    "plt.ylabel('Stock Price in $', fontsize=14)\n",
    "\n",
    "# Show plot\n",
    "plt.show()"
   ]
  },
  {
   "cell_type": "markdown",
   "metadata": {},
   "source": [
    "We can see some larger variations between predicted and actual values in the random sample.  \n",
    "Let's see how the model performed over the whole test data set. "
   ]
  },
  {
   "cell_type": "code",
   "execution_count": 25,
   "metadata": {},
   "outputs": [
    {
     "data": {
      "image/png": "[encoded data removed]",
      "text/plain": [
       "<Figure size 1152x720 with 1 Axes>"
      ]
     },
     "metadata": {},
     "output_type": "display_data"
    }
   ],
   "source": [
    "# Plot fitted line, y test\n",
    "plt.figure(1, figsize=(16,10))\n",
    "plt.title('Linear Regression | Price vs Time Future')\n",
    "plt.plot(X_test, model.predict(X_test), color='r', label='Predicted Price')\n",
    "plt.scatter(X_test, y_test, edgecolor='w', label='Actual Price')\n",
    "\n",
    "plt.xlabel('Integer Date')\n",
    "plt.ylabel('Stock Price in $')\n",
    "\n",
    "plt.show()"
   ]
  },
  {
   "cell_type": "code",
   "execution_count": 26,
   "metadata": {},
   "outputs": [
    {
     "data": {
      "image/png": "[encoded data removed]",
      "text/plain": [
       "<Figure size 432x288 with 1 Axes>"
      ]
     },
     "metadata": {},
     "output_type": "display_data"
    }
   ],
   "source": [
    "# Plot predicted vs actual prices\n",
    "plt.scatter(y_test, y_pred)\n",
    "\n",
    "plt.xlabel('Actual Prices')\n",
    "plt.ylabel('Predicted Prices')\n",
    "\n",
    "plt.title('Predicted Actual Price in future')\n",
    "\n",
    "plt.show()"
   ]
  },
  {
   "cell_type": "markdown",
   "metadata": {},
   "source": [
    "The data points are mostly close to a diagonal, which indicates, that the predicted values are close to the actual value and the model's performance is largerly quite good.  \n",
    "Yet there are some areas, around 55 to 65, the model seems to be quite random and shows no relationship between the predicted and actual value.  \n",
    "Also in the area around 85 - 110 the data point are spread out quite heavily and the predictions don't cover the values above 100."
   ]
  },
  {
   "cell_type": "markdown",
   "metadata": {},
   "source": [
    "#### Residual Histogram\n",
    "\n",
    "The residuals are nearly normally distributed around zero, with a slight skewedness to the right. "
   ]
  },
  {
   "cell_type": "code",
   "execution_count": 27,
   "metadata": {},
   "outputs": [
    {
     "name": "stderr",
     "output_type": "stream",
     "text": [
      "D:\\Anaconda3\\lib\\site-packages\\matplotlib\\axes\\_axes.py:6462: UserWarning: The 'normed' kwarg is deprecated, and has been replaced by the 'density' kwarg.\n",
      "  warnings.warn(\"The 'normed' kwarg is deprecated, and has been \"\n"
     ]
    },
    {
     "data": {
      "image/png": "[encoded data removed]",
      "text/plain": [
       "<Figure size 432x288 with 1 Axes>"
      ]
     },
     "metadata": {},
     "output_type": "display_data"
    }
   ],
   "source": [
    "# Import norm package to plot normal distribution\n",
    "from scipy.stats import norm\n",
    "\n",
    "# Fit a normal distribution to the data:\n",
    "mu, std = norm.fit(y_test - y_pred)\n",
    "\n",
    "ax = sns.distplot((y_test - y_pred), label='Residual Histogram & Distribution')\n",
    "\n",
    "# Calculate the pdf over a range of values         \n",
    "x = np.linspace(min(y_test - y_pred), max(y_test - y_pred), 100)\n",
    "p = norm.pdf(x, mu, std)\n",
    "\n",
    "# And plot on the same axes that seaborn put the histogram\n",
    "ax.plot(x, p, 'r', lw=2, label='Normal Distribution') \n",
    "\n",
    "plt.legend()\n",
    "plt.show()"
   ]
  },
  {
   "cell_type": "code",
   "execution_count": 28,
   "metadata": {},
   "outputs": [],
   "source": [
    "# Add new column for predictions to df\n",
    "df['Prediction'] = model.predict(np.array(df.index).reshape(-1, 1))"
   ]
  },
  {
   "cell_type": "code",
   "execution_count": 29,
   "metadata": {},
   "outputs": [
    {
     "data": {
      "text/html": [
       "<div>\n",
       "<style scoped>\n",
       "    .dataframe tbody tr th:only-of-type {\n",
       "        vertical-align: middle;\n",
       "    }\n",
       "\n",
       "    .dataframe tbody tr th {\n",
       "        vertical-align: top;\n",
       "    }\n",
       "\n",
       "    .dataframe thead th {\n",
       "        text-align: right;\n",
       "    }\n",
       "</style>\n",
       "<table border=\"1\" class=\"dataframe\">\n",
       "  <thead>\n",
       "    <tr style=\"text-align: right;\">\n",
       "      <th></th>\n",
       "      <th>index</th>\n",
       "      <th>Date</th>\n",
       "      <th>Close</th>\n",
       "      <th>Prediction</th>\n",
       "    </tr>\n",
       "  </thead>\n",
       "  <tbody>\n",
       "    <tr>\n",
       "      <th>0</th>\n",
       "      <td>0</td>\n",
       "      <td>2009-03-09</td>\n",
       "      <td>25.59</td>\n",
       "      <td>25.657844</td>\n",
       "    </tr>\n",
       "    <tr>\n",
       "      <th>1</th>\n",
       "      <td>1</td>\n",
       "      <td>2009-03-10</td>\n",
       "      <td>26.87</td>\n",
       "      <td>25.685567</td>\n",
       "    </tr>\n",
       "    <tr>\n",
       "      <th>2</th>\n",
       "      <td>2</td>\n",
       "      <td>2009-03-11</td>\n",
       "      <td>26.64</td>\n",
       "      <td>25.713291</td>\n",
       "    </tr>\n",
       "    <tr>\n",
       "      <th>3</th>\n",
       "      <td>3</td>\n",
       "      <td>2009-03-12</td>\n",
       "      <td>26.18</td>\n",
       "      <td>25.741014</td>\n",
       "    </tr>\n",
       "    <tr>\n",
       "      <th>4</th>\n",
       "      <td>4</td>\n",
       "      <td>2009-03-13</td>\n",
       "      <td>25.73</td>\n",
       "      <td>25.768738</td>\n",
       "    </tr>\n",
       "  </tbody>\n",
       "</table>\n",
       "</div>"
      ],
      "text/plain": [
       "   index        Date  Close  Prediction\n",
       "0      0  2009-03-09  25.59   25.657844\n",
       "1      1  2009-03-10  26.87   25.685567\n",
       "2      2  2009-03-11  26.64   25.713291\n",
       "3      3  2009-03-12  26.18   25.741014\n",
       "4      4  2009-03-13  25.73   25.768738"
      ]
     },
     "execution_count": 29,
     "metadata": {},
     "output_type": "execute_result"
    }
   ],
   "source": [
    "df.head()"
   ]
  },
  {
   "cell_type": "markdown",
   "metadata": {},
   "source": [
    "### Error Evaluation Metrics\n",
    "\n",
    "**Mean Absolute Error (MAE)** is the mean of the absolute value of the errors:\n",
    "$$\n",
    "\\frac{1}{N} \\sum_{i = 1}^{N} |y_i - \\hat{y}_i|\n",
    "$$\n",
    "\n",
    "**Mean Squared Error (MSE)** is the mean of the squared errors:\n",
    "$$\n",
    "\\frac{1}{N} \\sum_{i = 1}^{N} (y_i - \\hat{y}_i)^2\n",
    "$$\n",
    "\n",
    "**Root Mean Squared Error (RMSE)** is the square root of the mean of the squared errors:\n",
    "$$\n",
    "\\sqrt{\\frac{1}{N} \\sum_{i = 1}^{N} (y_i - \\hat{y}_i)^2}\n",
    "$$\n",
    "\n",
    "All of these are **cost functions** we want to minimize."
   ]
  },
  {
   "cell_type": "code",
   "execution_count": 30,
   "metadata": {},
   "outputs": [],
   "source": [
    "# Import metrics package from sklearn for statistical analysis\n",
    "from sklearn import metrics"
   ]
  },
  {
   "cell_type": "code",
   "execution_count": 31,
   "metadata": {},
   "outputs": [
    {
     "data": {
      "text/plain": [
       "count    2550.000000\n",
       "mean       60.995955\n",
       "std        21.097480\n",
       "min        25.590000\n",
       "25%        42.950000\n",
       "50%        58.015000\n",
       "75%        77.762500\n",
       "max       107.800000\n",
       "Name: Close, dtype: float64"
      ]
     },
     "execution_count": 31,
     "metadata": {},
     "output_type": "execute_result"
    }
   ],
   "source": [
    "# Statistical summary of test data\n",
    "df['Close'].describe()"
   ]
  },
  {
   "cell_type": "code",
   "execution_count": 32,
   "metadata": {},
   "outputs": [
    {
     "name": "stdout",
     "output_type": "stream",
     "text": [
      "Mean Absolute Error: 4.17927317731808\n",
      "Mean Squared Error: 28.801446876011838\n",
      "Root Mean Squared Error: 5.366697949019661\n"
     ]
    }
   ],
   "source": [
    "# Calculate and print values of MAE, MSE, RMSE\n",
    "print('Mean Absolute Error:', metrics.mean_absolute_error(y_test, y_pred))  \n",
    "print('Mean Squared Error:', metrics.mean_squared_error(y_test, y_pred))  \n",
    "print('Root Mean Squared Error:', np.sqrt(metrics.mean_squared_error(y_test, y_pred)))"
   ]
  },
  {
   "cell_type": "markdown",
   "metadata": {},
   "source": [
    "* The MAE is 3% (of minimum) and 6% (of maximum) of the Closing Price.\n",
    "* The other two errors are larger, because the errors are squared and have therefore a greater influence on the result."
   ]
  },
  {
   "cell_type": "markdown",
   "metadata": {},
   "source": [
    "### Accuracy Evaluation Metrics\n",
    "\n",
    "To see how accurate our model is, we can calculate the **Coefficient of determination**, which describes the ratio between the total error and the error, that is explained by our model. It's value is between 0 and 1, with 1 meaning 100% of the error is acoounted for by the model. \n",
    "\n",
    "**Coefficient of determination**\n",
    "$$\n",
    "R^2 = 1 - \\frac{RSS}{TSS}\n",
    "$$\n",
    "\n",
    "with  \n",
    "\n",
    "**Residual Sum of Squares (RSS)**\n",
    "$$\n",
    "RSS = \\sum_{i = 1}^{N} \\epsilon_i^2 = \\sum_{i = 1}^{N} (y_i - \\hat{y}_i)^2\n",
    "$$\n",
    "\n",
    "**Total Sum of Squares (TSS)**\n",
    "$$\n",
    "TSS = \\sum_{i = 1}^{N} (y_i - \\bar{y}_i)^2\n",
    "$$\n"
   ]
  },
  {
   "cell_type": "code",
   "execution_count": 33,
   "metadata": {},
   "outputs": [
    {
     "name": "stdout",
     "output_type": "stream",
     "text": [
      "R2:  0.936645628275978\n"
     ]
    }
   ],
   "source": [
    "print('R2: ', metrics.r2_score(y_test, y_pred))"
   ]
  },
  {
   "cell_type": "code",
   "execution_count": 34,
   "metadata": {},
   "outputs": [
    {
     "data": {
      "text/plain": [
       "0.93664675240512"
      ]
     },
     "execution_count": 34,
     "metadata": {},
     "output_type": "execute_result"
    }
   ],
   "source": [
    "from sklearn.metrics import explained_variance_score\n",
    "explained_variance_score(y_test, y_pred)"
   ]
  },
  {
   "cell_type": "markdown",
   "metadata": {},
   "source": [
    "The value of $R^2$ shows that are model accounts for nearly 94% of the differences between the actual stock prices and the predicted prices. "
   ]
  },
  {
   "cell_type": "markdown",
   "metadata": {},
   "source": [
    "# SOME COMMON MISTAKES\n",
    "Let us mention some of the common mistakes made by practitioners in this field, which you are required to avoid\n",
    "\n",
    "1 Bad annotation of training and testing datasets <br/>\n",
    "\n",
    "2 Poor understanding of algorithms’ assumptions.\n",
    "\n",
    "3 Poor understanding of algorithms’ parameters.\n",
    "\n",
    "4 Failure to understand objective.\n",
    "\n",
    "5 Not understanding the data.\n",
    "\n",
    "6 Avoid leakage (Features, information).\n",
    "\n",
    "7 Not enough data to train the classifier.\n",
    "\n",
    "8 Using machine learning where it is not necessary."
   ]
  },
  {
   "cell_type": "markdown",
   "metadata": {},
   "source": [
    "# CONCLUSIONS\n",
    "Machine learning as we have seen till now, is a very powerful tool and as evitable, it has some great application. We have seen till now that machine learning is very much dependent upon data. Thus it is important understand that data is quite invaluable and as simple is it may sound, data analysis is not an easy task. Machine learning have found tremendous application and has evolved further into deep learning and neural networks, but the core idea is more or less the same for all of them. This paper delivers a smooth insight of how to implement machine learning. There are various ways, methods and techniques available to handle and solve various problems, in different situations imaginable. This paper is limited to only supervised machine learning, and tries to explain only the fundamentals of this complex process."
   ]
  },
  {
   "cell_type": "code",
   "execution_count": null,
   "metadata": {},
   "outputs": [],
   "source": []
  }
 ],
 "metadata": {
  "kernelspec": {
   "display_name": "Python 3",
   "language": "python",
   "name": "python3"
  },
  "language_info": {
   "codemirror_mode": {
    "name": "ipython",
    "version": 3
   },
   "file_extension": ".py",
   "mimetype": "text/x-python",
   "name": "python",
   "nbconvert_exporter": "python",
   "pygments_lexer": "ipython3",
   "version": "3.6.5"
  }
 },
 "nbformat": 4,
 "nbformat_minor": 2
}
